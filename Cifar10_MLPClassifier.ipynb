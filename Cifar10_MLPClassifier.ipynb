{
 "cells": [
  {
   "cell_type": "markdown",
   "id": "8d2741ec",
   "metadata": {},
   "source": [
    "# Setup"
   ]
  },
  {
   "cell_type": "code",
   "execution_count": 1,
   "id": "52f5fb05",
   "metadata": {},
   "outputs": [],
   "source": [
    "# Common imports\n",
    "import sys\n",
    "import os\n",
    "import sklearn\n",
    "import numpy as np\n",
    "import pandas as pd\n",
    "import tensorflow as tf\n",
    "from tensorflow import keras\n",
    "from tensorflow.keras.models import Sequential \n",
    "\n",
    "# to make this notebook's output stable across runs\n",
    "np.random.seed(42)\n",
    "tf.random.set_seed(42)\n",
    "\n",
    "# To plot pretty figures\n",
    "%matplotlib inline\n",
    "import matplotlib.pyplot as plt\n",
    "\n",
    "# Ignore useless warnings (see SciPy issue #5998)\n",
    "import warnings\n",
    "warnings.filterwarnings(action=\"ignore\", message=\"^internal gelsd\")"
   ]
  },
  {
   "cell_type": "code",
   "execution_count": null,
   "id": "a490e2d9",
   "metadata": {},
   "outputs": [],
   "source": []
  },
  {
   "cell_type": "markdown",
   "id": "b081722e",
   "metadata": {},
   "source": [
    "# Load data"
   ]
  },
  {
   "cell_type": "code",
   "execution_count": 2,
   "id": "ae5b7ce6",
   "metadata": {},
   "outputs": [],
   "source": [
    "cifar = tf.keras.datasets.cifar10\n",
    "(X_train_full, y_train_full), (X_test, y_test) = cifar.load_data()"
   ]
  },
  {
   "cell_type": "code",
   "execution_count": 3,
   "id": "d85a273f",
   "metadata": {},
   "outputs": [
    {
     "data": {
      "text/plain": [
       "(50000, 32, 32, 3)"
      ]
     },
     "execution_count": 3,
     "metadata": {},
     "output_type": "execute_result"
    }
   ],
   "source": [
    "X_train_full.shape"
   ]
  },
  {
   "cell_type": "code",
   "execution_count": 4,
   "id": "24b34344",
   "metadata": {},
   "outputs": [
    {
     "data": {
      "text/plain": [
       "dtype('uint8')"
      ]
     },
     "execution_count": 4,
     "metadata": {},
     "output_type": "execute_result"
    }
   ],
   "source": [
    "X_train_full.dtype"
   ]
  },
  {
   "cell_type": "code",
   "execution_count": 5,
   "id": "bf55a5aa",
   "metadata": {},
   "outputs": [],
   "source": [
    "X_valid, X_train = X_train_full[:5000] / 255., X_train_full[5000:] / 255.\n",
    "y_valid, y_train = y_train_full[:5000], y_train_full[5000:]\n",
    "X_test = X_test / 255."
   ]
  },
  {
   "cell_type": "code",
   "execution_count": 6,
   "id": "dabed97e",
   "metadata": {},
   "outputs": [
    {
     "data": {
      "text/plain": [
       "(45000, 32, 32, 3)"
      ]
     },
     "execution_count": 6,
     "metadata": {},
     "output_type": "execute_result"
    }
   ],
   "source": [
    "X_train.shape"
   ]
  },
  {
   "cell_type": "code",
   "execution_count": 7,
   "id": "e8cf3d52",
   "metadata": {},
   "outputs": [
    {
     "data": {
      "text/plain": [
       "(5000, 32, 32, 3)"
      ]
     },
     "execution_count": 7,
     "metadata": {},
     "output_type": "execute_result"
    }
   ],
   "source": [
    "X_valid.shape"
   ]
  },
  {
   "cell_type": "code",
   "execution_count": 8,
   "id": "604350ca",
   "metadata": {},
   "outputs": [
    {
     "data": {
      "text/plain": [
       "(10000, 32, 32, 3)"
      ]
     },
     "execution_count": 8,
     "metadata": {},
     "output_type": "execute_result"
    }
   ],
   "source": [
    "X_test.shape"
   ]
  },
  {
   "cell_type": "code",
   "execution_count": 9,
   "id": "03beb716",
   "metadata": {},
   "outputs": [
    {
     "data": {
      "image/png": "[encoded data removed]",
      "text/plain": [
       "<Figure size 432x288 with 1 Axes>"
      ]
     },
     "metadata": {
      "needs_background": "light"
     },
     "output_type": "display_data"
    }
   ],
   "source": [
    "plt.imshow(X_train[0], cmap=\"binary\")\n",
    "plt.axis('off')\n",
    "plt.show()"
   ]
  },
  {
   "cell_type": "code",
   "execution_count": 10,
   "id": "e89a8756",
   "metadata": {},
   "outputs": [
    {
     "data": {
      "text/plain": [
       "array([[6],\n",
       "       [7],\n",
       "       [9],\n",
       "       ...,\n",
       "       [9],\n",
       "       [1],\n",
       "       [1]], dtype=uint8)"
      ]
     },
     "execution_count": 10,
     "metadata": {},
     "output_type": "execute_result"
    }
   ],
   "source": [
    "y_train"
   ]
  },
  {
   "cell_type": "code",
   "execution_count": 11,
   "id": "ca03a4a6",
   "metadata": {},
   "outputs": [],
   "source": [
    "class_names = [\"airplane\", \"automobile\", \"bird\", \"cat\", \"deer\", \"dog\", \"frog\", \"horse\", \"ship\", \"truck\"]"
   ]
  },
  {
   "cell_type": "code",
   "execution_count": 12,
   "id": "62538e10",
   "metadata": {},
   "outputs": [
    {
     "data": {
      "text/plain": [
       "'frog'"
      ]
     },
     "execution_count": 12,
     "metadata": {},
     "output_type": "execute_result"
    }
   ],
   "source": [
    "class_names[y_train[0][0]]"
   ]
  },
  {
   "cell_type": "markdown",
   "id": "1bfa3ed5",
   "metadata": {},
   "source": [
    "# Standardize data"
   ]
  },
  {
   "cell_type": "code",
   "execution_count": 13,
   "id": "4870bfa6",
   "metadata": {},
   "outputs": [
    {
     "data": {
      "text/plain": [
       "(32, 32, 3)"
      ]
     },
     "execution_count": 13,
     "metadata": {},
     "output_type": "execute_result"
    }
   ],
   "source": [
    "pixel_means = X_train.mean(axis=0)\n",
    "pixel_means.shape"
   ]
  },
  {
   "cell_type": "code",
   "execution_count": 14,
   "id": "faea889c",
   "metadata": {},
   "outputs": [
    {
     "data": {
      "text/plain": [
       "(32, 32, 3)"
      ]
     },
     "execution_count": 14,
     "metadata": {},
     "output_type": "execute_result"
    }
   ],
   "source": [
    "pixel_stds = X_train.std(axis=0)\n",
    "pixel_stds.shape"
   ]
  },
  {
   "cell_type": "code",
   "execution_count": 15,
   "id": "6ddb3930",
   "metadata": {},
   "outputs": [],
   "source": [
    "X_train_standardized = (X_train - pixel_means) / pixel_stds\n",
    "\n",
    "X_valid_standardized = (X_valid - X_valid.mean(axis=0)) / X_valid.std(axis=0)\n",
    "X_test_standardized = (X_test - X_test.mean(axis=0)) / X_test.std(axis=0)"
   ]
  },
  {
   "cell_type": "code",
   "execution_count": 16,
   "id": "bd070a24",
   "metadata": {},
   "outputs": [
    {
     "data": {
      "text/plain": [
       "array([[[-1.26346538e-14,  3.83544900e-14, -1.45948340e-14],\n",
       "        [ 2.16892529e-14,  3.88299911e-14,  2.69281881e-14],\n",
       "        [ 3.47678923e-15,  4.16193598e-14,  3.18685522e-14],\n",
       "        ...,\n",
       "        [ 1.76495559e-14,  6.61919458e-14,  2.21680353e-14],\n",
       "        [ 1.66235371e-14,  4.96447476e-14,  3.16723191e-14],\n",
       "        [ 5.35746262e-15,  4.45144613e-14,  1.94159799e-14]],\n",
       "\n",
       "       [[-1.99349722e-14, -3.55779603e-15,  4.97943415e-15],\n",
       "        [ 8.87647980e-15,  5.65033699e-14,  3.09045777e-14],\n",
       "        [-5.48222702e-15,  5.33282455e-14,  1.60781906e-14],\n",
       "        ...,\n",
       "        [ 1.28854458e-15,  1.69432073e-14,  1.56435655e-14],\n",
       "        [-5.75694554e-15,  1.82706147e-14, -1.09884447e-15],\n",
       "        [-4.67727092e-15,  2.91203851e-14,  1.43271271e-14]],\n",
       "\n",
       "       [[-2.38230916e-14,  2.39115740e-14,  1.65502476e-14],\n",
       "        [ 1.54112772e-15,  5.32304225e-14,  3.12234189e-16],\n",
       "        [ 1.71493387e-14,  4.50213447e-14,  7.41992640e-15],\n",
       "        ...,\n",
       "        [-1.77874505e-15,  4.72152293e-14,  1.28525487e-14],\n",
       "        [-6.03147162e-15,  3.13038336e-14,  3.94043316e-15],\n",
       "        [-1.94002690e-14,  1.50302511e-14, -5.88925452e-15]],\n",
       "\n",
       "       ...,\n",
       "\n",
       "       [[-4.60960998e-14, -1.94454588e-14, -8.10382070e-14],\n",
       "        [-3.54677349e-14, -4.98424431e-14, -7.99850365e-14],\n",
       "        [-3.65975324e-14, -3.90230478e-14, -8.54803130e-14],\n",
       "        ...,\n",
       "        [-3.67897416e-14, -6.23728082e-14, -9.42505136e-14],\n",
       "        [-1.58437313e-14, -3.79363997e-14, -7.64520299e-14],\n",
       "        [-4.15772404e-14, -3.31281521e-14, -8.95977860e-14]],\n",
       "\n",
       "       [[-4.34805297e-14, -4.10451087e-14, -8.99513180e-14],\n",
       "        [-2.61402097e-14, -4.29036698e-14, -8.77437589e-14],\n",
       "        [-2.83665577e-14, -4.81265375e-14, -9.01708965e-14],\n",
       "        ...,\n",
       "        [-1.80138497e-14, -3.16927669e-14, -9.20452455e-14],\n",
       "        [-2.67316786e-14, -3.08060639e-14, -1.03972352e-13],\n",
       "        [-3.25662115e-14, -3.01285367e-14, -9.15512851e-14]],\n",
       "\n",
       "       [[-1.09369310e-14, -2.43294557e-14, -8.53288010e-14],\n",
       "        [-2.01748821e-14, -3.88763009e-14, -6.32546213e-14],\n",
       "        [-1.38689881e-14, -2.84715911e-14, -7.70930728e-14],\n",
       "        ...,\n",
       "        [-3.06231805e-14, -4.06397632e-14, -7.22581476e-14],\n",
       "        [-3.19223388e-14, -3.26851484e-14, -9.55062252e-14],\n",
       "        [-3.65882386e-14, -2.06118480e-14, -9.47159659e-14]]])"
      ]
     },
     "execution_count": 16,
     "metadata": {},
     "output_type": "execute_result"
    }
   ],
   "source": [
    "X_train_standardized.mean(axis=0)"
   ]
  },
  {
   "cell_type": "code",
   "execution_count": 17,
   "id": "5daafe0b",
   "metadata": {},
   "outputs": [
    {
     "data": {
      "text/plain": [
       "array([[[1., 1., 1.],\n",
       "        [1., 1., 1.],\n",
       "        [1., 1., 1.],\n",
       "        ...,\n",
       "        [1., 1., 1.],\n",
       "        [1., 1., 1.],\n",
       "        [1., 1., 1.]],\n",
       "\n",
       "       [[1., 1., 1.],\n",
       "        [1., 1., 1.],\n",
       "        [1., 1., 1.],\n",
       "        ...,\n",
       "        [1., 1., 1.],\n",
       "        [1., 1., 1.],\n",
       "        [1., 1., 1.]],\n",
       "\n",
       "       [[1., 1., 1.],\n",
       "        [1., 1., 1.],\n",
       "        [1., 1., 1.],\n",
       "        ...,\n",
       "        [1., 1., 1.],\n",
       "        [1., 1., 1.],\n",
       "        [1., 1., 1.]],\n",
       "\n",
       "       ...,\n",
       "\n",
       "       [[1., 1., 1.],\n",
       "        [1., 1., 1.],\n",
       "        [1., 1., 1.],\n",
       "        ...,\n",
       "        [1., 1., 1.],\n",
       "        [1., 1., 1.],\n",
       "        [1., 1., 1.]],\n",
       "\n",
       "       [[1., 1., 1.],\n",
       "        [1., 1., 1.],\n",
       "        [1., 1., 1.],\n",
       "        ...,\n",
       "        [1., 1., 1.],\n",
       "        [1., 1., 1.],\n",
       "        [1., 1., 1.]],\n",
       "\n",
       "       [[1., 1., 1.],\n",
       "        [1., 1., 1.],\n",
       "        [1., 1., 1.],\n",
       "        ...,\n",
       "        [1., 1., 1.],\n",
       "        [1., 1., 1.],\n",
       "        [1., 1., 1.]]])"
      ]
     },
     "execution_count": 17,
     "metadata": {},
     "output_type": "execute_result"
    }
   ],
   "source": [
    "X_train_standardized.std(axis=0)"
   ]
  },
  {
   "cell_type": "markdown",
   "id": "ce35203b",
   "metadata": {},
   "source": [
    "# Sequential API"
   ]
  },
  {
   "cell_type": "code",
   "execution_count": 18,
   "id": "cdc60e5d",
   "metadata": {},
   "outputs": [],
   "source": [
    "model = keras.models.Sequential()\n",
    "\n",
    "#Input layer\n",
    "model.add(keras.layers.Flatten(input_shape = [32, 32, 3]))\n",
    "\n",
    "#Hidden layers\n",
    "for layer in range(3):\n",
    "    model.add(keras.layers.Dense(100, activation = \"selu\", kernel_initializer = \"lecun_normal\"))\n",
    "    \n",
    "#Alpha dropout in the last hidden layer\n",
    "model.add(keras.layers.AlphaDropout(rate = 0.2))\n",
    "\n",
    "#Output layer\n",
    "model.add(keras.layers.Dense(10, activation = \"softmax\"))"
   ]
  },
  {
   "cell_type": "code",
   "execution_count": 19,
   "id": "27511189",
   "metadata": {},
   "outputs": [
    {
     "name": "stdout",
     "output_type": "stream",
     "text": [
      "Model: \"sequential\"\n",
      "_________________________________________________________________\n",
      " Layer (type)                Output Shape              Param #   \n",
      "=================================================================\n",
      " flatten (Flatten)           (None, 3072)              0         \n",
      "                                                                 \n",
      " dense (Dense)               (None, 100)               307300    \n",
      "                                                                 \n",
      " dense_1 (Dense)             (None, 100)               10100     \n",
      "                                                                 \n",
      " dense_2 (Dense)             (None, 100)               10100     \n",
      "                                                                 \n",
      " alpha_dropout (AlphaDropout  (None, 100)              0         \n",
      " )                                                               \n",
      "                                                                 \n",
      " dense_3 (Dense)             (None, 10)                1010      \n",
      "                                                                 \n",
      "=================================================================\n",
      "Total params: 328,510\n",
      "Trainable params: 328,510\n",
      "Non-trainable params: 0\n",
      "_________________________________________________________________\n"
     ]
    }
   ],
   "source": [
    "model.summary()"
   ]
  },
  {
   "cell_type": "code",
   "execution_count": 20,
   "id": "89d9081d",
   "metadata": {},
   "outputs": [
    {
     "data": {
      "text/plain": [
       "'dense'"
      ]
     },
     "execution_count": 20,
     "metadata": {},
     "output_type": "execute_result"
    }
   ],
   "source": [
    "hidden = model.layers[1]\n",
    "hidden.name"
   ]
  },
  {
   "cell_type": "code",
   "execution_count": 21,
   "id": "383e2127",
   "metadata": {},
   "outputs": [],
   "source": [
    "weights, biases = hidden.get_weights()"
   ]
  },
  {
   "cell_type": "code",
   "execution_count": 22,
   "id": "98a5a7aa",
   "metadata": {},
   "outputs": [
    {
     "data": {
      "text/plain": [
       "array([[ 0.00671678, -0.01728328,  0.00655197, ..., -0.030162  ,\n",
       "         0.00874497, -0.00052549],\n",
       "       [-0.0095356 ,  0.02286839,  0.01445476, ..., -0.01182996,\n",
       "         0.01502507, -0.00780757],\n",
       "       [-0.02250803, -0.02772374,  0.01912522, ...,  0.00997402,\n",
       "        -0.01888504, -0.01395407],\n",
       "       ...,\n",
       "       [ 0.00886546,  0.02832981, -0.02443673, ..., -0.00851937,\n",
       "         0.00901785,  0.01717158],\n",
       "       [ 0.02430505, -0.00809324,  0.00285417, ...,  0.03608255,\n",
       "         0.01105349, -0.00426256],\n",
       "       [-0.00627153, -0.00838418, -0.01814006, ..., -0.02184197,\n",
       "         0.03904115,  0.00939984]], dtype=float32)"
      ]
     },
     "execution_count": 22,
     "metadata": {},
     "output_type": "execute_result"
    }
   ],
   "source": [
    "weights"
   ]
  },
  {
   "cell_type": "code",
   "execution_count": 23,
   "id": "b7d9cd1d",
   "metadata": {},
   "outputs": [
    {
     "data": {
      "text/plain": [
       "(3072, 100)"
      ]
     },
     "execution_count": 23,
     "metadata": {},
     "output_type": "execute_result"
    }
   ],
   "source": [
    "weights.shape"
   ]
  },
  {
   "cell_type": "code",
   "execution_count": 24,
   "id": "3b28df10",
   "metadata": {
    "scrolled": true
   },
   "outputs": [
    {
     "data": {
      "text/plain": [
       "array([0., 0., 0., 0., 0., 0., 0., 0., 0., 0., 0., 0., 0., 0., 0., 0., 0.,\n",
       "       0., 0., 0., 0., 0., 0., 0., 0., 0., 0., 0., 0., 0., 0., 0., 0., 0.,\n",
       "       0., 0., 0., 0., 0., 0., 0., 0., 0., 0., 0., 0., 0., 0., 0., 0., 0.,\n",
       "       0., 0., 0., 0., 0., 0., 0., 0., 0., 0., 0., 0., 0., 0., 0., 0., 0.,\n",
       "       0., 0., 0., 0., 0., 0., 0., 0., 0., 0., 0., 0., 0., 0., 0., 0., 0.,\n",
       "       0., 0., 0., 0., 0., 0., 0., 0., 0., 0., 0., 0., 0., 0., 0.],\n",
       "      dtype=float32)"
      ]
     },
     "execution_count": 24,
     "metadata": {},
     "output_type": "execute_result"
    }
   ],
   "source": [
    "biases"
   ]
  },
  {
   "cell_type": "code",
   "execution_count": 25,
   "id": "3dd1d7d4",
   "metadata": {},
   "outputs": [
    {
     "data": {
      "text/plain": [
       "(100,)"
      ]
     },
     "execution_count": 25,
     "metadata": {},
     "output_type": "execute_result"
    }
   ],
   "source": [
    "biases.shape"
   ]
  },
  {
   "cell_type": "markdown",
   "id": "4820961d",
   "metadata": {},
   "source": [
    "# Compile"
   ]
  },
  {
   "cell_type": "code",
   "execution_count": 26,
   "id": "b1f7f2d1",
   "metadata": {},
   "outputs": [],
   "source": [
    "from keras import optimizers\n",
    "#Using momentum optimization of 0.9 (should be between 0 and 1, 0.9 best in practice)\n",
    "model.compile(loss=\"sparse_categorical_crossentropy\",optimizer=tf.keras.optimizers.SGD(momentum=0.9),metrics=[\"accuracy\"])"
   ]
  },
  {
   "cell_type": "code",
   "execution_count": 27,
   "id": "0fbbc92b",
   "metadata": {},
   "outputs": [],
   "source": [
    "from keras.callbacks import EarlyStopping\n",
    "from keras.callbacks import ReduceLROnPlateau\n",
    "\n",
    "es = EarlyStopping(patience = 5, restore_best_weights=True, monitor=\"accuracy\", min_delta=0.001, mode=\"max\")\n",
    "lr = ReduceLROnPlateau(factor=0.5, patience=4)"
   ]
  },
  {
   "cell_type": "markdown",
   "id": "ef4eca8c",
   "metadata": {},
   "source": [
    "# Training"
   ]
  },
  {
   "cell_type": "code",
   "execution_count": 28,
   "id": "4adb761c",
   "metadata": {
    "scrolled": true
   },
   "outputs": [
    {
     "name": "stdout",
     "output_type": "stream",
     "text": [
      "Epoch 1/30\n",
      "1407/1407 [==============================] - 5s 2ms/step - loss: 1.9766 - accuracy: 0.2824 - val_loss: 1.9160 - val_accuracy: 0.3512 - lr: 0.0100\n",
      "Epoch 2/30\n",
      "1407/1407 [==============================] - 3s 2ms/step - loss: 1.7842 - accuracy: 0.3590 - val_loss: 1.8254 - val_accuracy: 0.3716 - lr: 0.0100\n",
      "Epoch 3/30\n",
      "1407/1407 [==============================] - 3s 2ms/step - loss: 1.7013 - accuracy: 0.3902 - val_loss: 1.7723 - val_accuracy: 0.3946 - lr: 0.0100\n",
      "Epoch 4/30\n",
      "1407/1407 [==============================] - 3s 2ms/step - loss: 1.6547 - accuracy: 0.4074 - val_loss: 1.8125 - val_accuracy: 0.4086 - lr: 0.0100\n",
      "Epoch 5/30\n",
      "1407/1407 [==============================] - 3s 2ms/step - loss: 1.6087 - accuracy: 0.4194 - val_loss: 1.6697 - val_accuracy: 0.4394 - lr: 0.0100\n",
      "Epoch 6/30\n",
      "1407/1407 [==============================] - 3s 2ms/step - loss: 1.5782 - accuracy: 0.4328 - val_loss: 1.6001 - val_accuracy: 0.4468 - lr: 0.0100\n",
      "Epoch 7/30\n",
      "1407/1407 [==============================] - 3s 2ms/step - loss: 1.5473 - accuracy: 0.4442 - val_loss: 1.6444 - val_accuracy: 0.4452 - lr: 0.0100\n",
      "Epoch 8/30\n",
      "1407/1407 [==============================] - 3s 2ms/step - loss: 1.5242 - accuracy: 0.4547 - val_loss: 1.5173 - val_accuracy: 0.4762 - lr: 0.0100\n",
      "Epoch 9/30\n",
      "1407/1407 [==============================] - 3s 2ms/step - loss: 1.5043 - accuracy: 0.4604 - val_loss: 1.6472 - val_accuracy: 0.4554 - lr: 0.0100\n",
      "Epoch 10/30\n",
      "1407/1407 [==============================] - 3s 2ms/step - loss: 1.4895 - accuracy: 0.4671 - val_loss: 1.8042 - val_accuracy: 0.4316 - lr: 0.0100\n",
      "Epoch 11/30\n",
      "1407/1407 [==============================] - 3s 2ms/step - loss: 1.4685 - accuracy: 0.4722 - val_loss: 1.7564 - val_accuracy: 0.4380 - lr: 0.0100\n",
      "Epoch 12/30\n",
      "1407/1407 [==============================] - 3s 2ms/step - loss: 1.4495 - accuracy: 0.4775 - val_loss: 1.5308 - val_accuracy: 0.4766 - lr: 0.0100\n",
      "Epoch 13/30\n",
      "1407/1407 [==============================] - 3s 2ms/step - loss: 1.3144 - accuracy: 0.5252 - val_loss: 1.5292 - val_accuracy: 0.5022 - lr: 0.0050\n",
      "Epoch 14/30\n",
      "1407/1407 [==============================] - 3s 2ms/step - loss: 1.2991 - accuracy: 0.5301 - val_loss: 1.4751 - val_accuracy: 0.5132 - lr: 0.0050\n",
      "Epoch 15/30\n",
      "1407/1407 [==============================] - 3s 2ms/step - loss: 1.2785 - accuracy: 0.5414 - val_loss: 1.5375 - val_accuracy: 0.5130 - lr: 0.0050\n",
      "Epoch 16/30\n",
      "1407/1407 [==============================] - 3s 2ms/step - loss: 1.2708 - accuracy: 0.5417 - val_loss: 1.4919 - val_accuracy: 0.5194 - lr: 0.0050\n",
      "Epoch 17/30\n",
      "1407/1407 [==============================] - 3s 2ms/step - loss: 1.2570 - accuracy: 0.5457 - val_loss: 1.5251 - val_accuracy: 0.5076 - lr: 0.0050\n",
      "Epoch 18/30\n",
      "1407/1407 [==============================] - 3s 2ms/step - loss: 1.2500 - accuracy: 0.5486 - val_loss: 1.5029 - val_accuracy: 0.5130 - lr: 0.0050\n",
      "Epoch 19/30\n",
      "1407/1407 [==============================] - 3s 2ms/step - loss: 1.1717 - accuracy: 0.5746 - val_loss: 1.4503 - val_accuracy: 0.5402 - lr: 0.0025\n",
      "Epoch 20/30\n",
      "1407/1407 [==============================] - 3s 2ms/step - loss: 1.1598 - accuracy: 0.5800 - val_loss: 1.4931 - val_accuracy: 0.5350 - lr: 0.0025\n",
      "Epoch 21/30\n",
      "1407/1407 [==============================] - 3s 2ms/step - loss: 1.1484 - accuracy: 0.5837 - val_loss: 1.4485 - val_accuracy: 0.5384 - lr: 0.0025\n",
      "Epoch 22/30\n",
      "1407/1407 [==============================] - 3s 2ms/step - loss: 1.1413 - accuracy: 0.5864 - val_loss: 1.4934 - val_accuracy: 0.5348 - lr: 0.0025\n",
      "Epoch 23/30\n",
      "1407/1407 [==============================] - 3s 2ms/step - loss: 1.1302 - accuracy: 0.5887 - val_loss: 1.4806 - val_accuracy: 0.5338 - lr: 0.0025\n",
      "Epoch 24/30\n",
      "1407/1407 [==============================] - 3s 2ms/step - loss: 1.1263 - accuracy: 0.5898 - val_loss: 1.4623 - val_accuracy: 0.5326 - lr: 0.0025\n",
      "Epoch 25/30\n",
      "1407/1407 [==============================] - 3s 2ms/step - loss: 1.1188 - accuracy: 0.5904 - val_loss: 1.5057 - val_accuracy: 0.5356 - lr: 0.0025\n",
      "Epoch 26/30\n",
      "1407/1407 [==============================] - 3s 2ms/step - loss: 1.0712 - accuracy: 0.6104 - val_loss: 1.4605 - val_accuracy: 0.5462 - lr: 0.0012\n",
      "Epoch 27/30\n",
      "1407/1407 [==============================] - 3s 2ms/step - loss: 1.0656 - accuracy: 0.6116 - val_loss: 1.4622 - val_accuracy: 0.5492 - lr: 0.0012\n",
      "Epoch 28/30\n",
      "1407/1407 [==============================] - 3s 2ms/step - loss: 1.0596 - accuracy: 0.6144 - val_loss: 1.4903 - val_accuracy: 0.5430 - lr: 0.0012\n",
      "Epoch 29/30\n",
      "1407/1407 [==============================] - 3s 2ms/step - loss: 1.0544 - accuracy: 0.6136 - val_loss: 1.5024 - val_accuracy: 0.5430 - lr: 0.0012\n",
      "Epoch 30/30\n",
      "1407/1407 [==============================] - 3s 2ms/step - loss: 1.0254 - accuracy: 0.6263 - val_loss: 1.4994 - val_accuracy: 0.5444 - lr: 6.2500e-04\n"
     ]
    }
   ],
   "source": [
    "history = model.fit(X_train, y_train, epochs=30, batch_size=32,\n",
    "                    validation_data=(X_valid, y_valid), callbacks=[es, lr])"
   ]
  },
  {
   "cell_type": "code",
   "execution_count": 29,
   "id": "9c4cc6e2",
   "metadata": {},
   "outputs": [
    {
     "data": {
      "text/plain": [
       "{'verbose': 1, 'epochs': 30, 'steps': 1407}"
      ]
     },
     "execution_count": 29,
     "metadata": {},
     "output_type": "execute_result"
    }
   ],
   "source": [
    "history.params"
   ]
  },
  {
   "cell_type": "code",
   "execution_count": 30,
   "id": "c77dbc84",
   "metadata": {},
   "outputs": [
    {
     "name": "stdout",
     "output_type": "stream",
     "text": [
      "[0, 1, 2, 3, 4, 5, 6, 7, 8, 9, 10, 11, 12, 13, 14, 15, 16, 17, 18, 19, 20, 21, 22, 23, 24, 25, 26, 27, 28, 29]\n"
     ]
    }
   ],
   "source": [
    "print(history.epoch)"
   ]
  },
  {
   "cell_type": "code",
   "execution_count": 31,
   "id": "40086375",
   "metadata": {},
   "outputs": [
    {
     "data": {
      "text/plain": [
       "dict_keys(['loss', 'accuracy', 'val_loss', 'val_accuracy', 'lr'])"
      ]
     },
     "execution_count": 31,
     "metadata": {},
     "output_type": "execute_result"
    }
   ],
   "source": [
    "history.history.keys()"
   ]
  },
  {
   "cell_type": "markdown",
   "id": "68c90f61",
   "metadata": {},
   "source": [
    "pd.DataFrame(history.history).plot(figsize=(8,5))"
   ]
  },
  {
   "cell_type": "markdown",
   "id": "4b647f4a",
   "metadata": {},
   "source": [
    "# Evaluation"
   ]
  },
  {
   "cell_type": "code",
   "execution_count": 32,
   "id": "01a067b8",
   "metadata": {},
   "outputs": [
    {
     "name": "stdout",
     "output_type": "stream",
     "text": [
      "313/313 [==============================] - 0s 1ms/step - loss: 1.5107 - accuracy: 0.5438\n"
     ]
    },
    {
     "data": {
      "text/plain": [
       "[1.5107349157333374, 0.5437999963760376]"
      ]
     },
     "execution_count": 32,
     "metadata": {},
     "output_type": "execute_result"
    }
   ],
   "source": [
    "model.evaluate(X_test, y_test)"
   ]
  },
  {
   "cell_type": "code",
   "execution_count": 33,
   "id": "6953ac2f",
   "metadata": {},
   "outputs": [
    {
     "data": {
      "text/plain": [
       "array([[0.01, 0.04, 0.13, 0.42, 0.27, 0.06, 0.  , 0.  , 0.05, 0.01],\n",
       "       [0.  , 0.02, 0.  , 0.  , 0.  , 0.  , 0.  , 0.  , 0.59, 0.38],\n",
       "       [0.25, 0.07, 0.  , 0.  , 0.  , 0.  , 0.  , 0.  , 0.59, 0.09]],\n",
       "      dtype=float32)"
      ]
     },
     "execution_count": 33,
     "metadata": {},
     "output_type": "execute_result"
    }
   ],
   "source": [
    "X_new = X_test[:3]\n",
    "y_proba = model.predict(X_new)\n",
    "y_proba.round(2)\n"
   ]
  },
  {
   "cell_type": "code",
   "execution_count": 34,
   "id": "661c64e4",
   "metadata": {},
   "outputs": [
    {
     "data": {
      "text/plain": [
       "array([[3],\n",
       "       [8],\n",
       "       [8]], dtype=uint8)"
      ]
     },
     "execution_count": 34,
     "metadata": {},
     "output_type": "execute_result"
    }
   ],
   "source": [
    "y_new = y_test[:3]\n",
    "y_new"
   ]
  },
  {
   "cell_type": "code",
   "execution_count": 35,
   "id": "e71ca79f",
   "metadata": {},
   "outputs": [
    {
     "data": {
      "text/plain": [
       "array([['cat'],\n",
       "       ['ship'],\n",
       "       ['ship']], dtype='<U10')"
      ]
     },
     "execution_count": 35,
     "metadata": {},
     "output_type": "execute_result"
    }
   ],
   "source": [
    "np.array(class_names)[y_new]"
   ]
  },
  {
   "cell_type": "markdown",
   "id": "b55b1bb7",
   "metadata": {},
   "source": [
    "# Hypertuning model parameters"
   ]
  },
  {
   "cell_type": "code",
   "execution_count": 36,
   "id": "a314b9a8",
   "metadata": {},
   "outputs": [],
   "source": [
    "# Create a function that will build and compile a Keras model.\n",
    "def build_model(n_hidden=1, n_neurons=30, learning_rate=3e-3, input_shape=[32, 32, 3]):\n",
    "    model = keras.models.Sequential()\n",
    "    model.add(keras.layers.Flatten(input_shape=input_shape))\n",
    "    \n",
    "    for layer in range(n_hidden):\n",
    "        model.add(keras.layers.Dense(n_neurons, activation=\"relu\"))\n",
    "    model.add(keras.layers.Dense(10, activation = \"softmax\"))\n",
    "    optimizer = keras.optimizers.SGD(lr=learning_rate)\n",
    "    model.compile(loss=\"sparse_categorical_crossentropy\", optimizer=optimizer)\n",
    "    return model"
   ]
  },
  {
   "cell_type": "code",
   "execution_count": 37,
   "id": "71792fdc",
   "metadata": {},
   "outputs": [
    {
     "name": "stderr",
     "output_type": "stream",
     "text": [
      "C:\\Users\\CSnit\\AppData\\Local\\Temp\\ipykernel_28464\\162082958.py:2: DeprecationWarning: KerasClassifier is deprecated, use Sci-Keras (https://github.com/adriangb/scikeras) instead. See https://www.adriangb.com/scikeras/stable/migration.html for help migrating.\n",
      "  keras_classifier = keras.wrappers.scikit_learn.KerasClassifier(build_model)\n"
     ]
    }
   ],
   "source": [
    "# Wrap the Keras model in a Scikit-Learn KerasRegressor.\n",
    "keras_classifier = keras.wrappers.scikit_learn.KerasClassifier(build_model)"
   ]
  },
  {
   "cell_type": "code",
   "execution_count": 38,
   "id": "6f324d72",
   "metadata": {},
   "outputs": [
    {
     "name": "stdout",
     "output_type": "stream",
     "text": [
      "Fitting 3 folds for each of 10 candidates, totalling 30 fits\n"
     ]
    },
    {
     "name": "stderr",
     "output_type": "stream",
     "text": [
      "D:\\Python\\lib\\site-packages\\sklearn\\model_selection\\_search.py:969: UserWarning: One or more of the test scores are non-finite: [nan nan nan nan nan nan nan nan nan nan]\n",
      "  warnings.warn(\n",
      "D:\\Python\\lib\\site-packages\\keras\\optimizer_v2\\gradient_descent.py:102: UserWarning: The `lr` argument is deprecated, use `learning_rate` instead.\n",
      "  super(SGD, self).__init__(name, **kwargs)\n"
     ]
    },
    {
     "name": "stdout",
     "output_type": "stream",
     "text": [
      "Epoch 1/30\n",
      "1407/1407 [==============================] - 3s 2ms/step - loss: 2.0182 - val_loss: 1.8810\n",
      "Epoch 2/30\n",
      "1407/1407 [==============================] - 2s 2ms/step - loss: 1.8469 - val_loss: 1.8499\n",
      "Epoch 3/30\n",
      "1407/1407 [==============================] - 2s 2ms/step - loss: 1.7792 - val_loss: 1.7613\n",
      "Epoch 4/30\n",
      "1407/1407 [==============================] - 2s 2ms/step - loss: 1.7304 - val_loss: 1.7598\n",
      "Epoch 5/30\n",
      "1407/1407 [==============================] - 2s 2ms/step - loss: 1.6910 - val_loss: 1.7194\n",
      "Epoch 6/30\n",
      "1407/1407 [==============================] - 2s 2ms/step - loss: 1.6581 - val_loss: 1.6569\n",
      "Epoch 7/30\n",
      "1407/1407 [==============================] - 2s 2ms/step - loss: 1.6282 - val_loss: 1.6536\n",
      "Epoch 8/30\n",
      "1407/1407 [==============================] - 2s 2ms/step - loss: 1.6028 - val_loss: 1.6009\n",
      "Epoch 9/30\n",
      "1407/1407 [==============================] - 2s 2ms/step - loss: 1.5809 - val_loss: 1.5878\n",
      "Epoch 10/30\n",
      "1407/1407 [==============================] - 2s 2ms/step - loss: 1.5603 - val_loss: 1.6053\n",
      "Epoch 11/30\n",
      "1407/1407 [==============================] - 2s 2ms/step - loss: 1.5422 - val_loss: 1.6526\n",
      "Epoch 12/30\n",
      "1407/1407 [==============================] - 2s 2ms/step - loss: 1.5255 - val_loss: 1.5754\n",
      "Epoch 13/30\n",
      "1407/1407 [==============================] - 2s 2ms/step - loss: 1.5103 - val_loss: 1.5677\n",
      "Epoch 14/30\n",
      "1407/1407 [==============================] - 2s 2ms/step - loss: 1.4918 - val_loss: 1.5293\n",
      "Epoch 15/30\n",
      "1407/1407 [==============================] - 2s 2ms/step - loss: 1.4782 - val_loss: 1.5221\n",
      "Epoch 16/30\n",
      "1407/1407 [==============================] - 2s 2ms/step - loss: 1.4638 - val_loss: 1.5370\n",
      "Epoch 17/30\n",
      "1407/1407 [==============================] - 2s 2ms/step - loss: 1.4520 - val_loss: 1.5019\n",
      "Epoch 18/30\n",
      "1407/1407 [==============================] - 2s 2ms/step - loss: 1.4387 - val_loss: 1.4904\n",
      "Epoch 19/30\n",
      "1407/1407 [==============================] - 3s 2ms/step - loss: 1.4260 - val_loss: 1.4965\n",
      "Epoch 20/30\n",
      "1407/1407 [==============================] - 2s 2ms/step - loss: 1.4153 - val_loss: 1.4993\n",
      "Epoch 21/30\n",
      "1407/1407 [==============================] - 2s 2ms/step - loss: 1.4051 - val_loss: 1.5332\n",
      "Epoch 22/30\n",
      "1407/1407 [==============================] - 2s 2ms/step - loss: 1.3933 - val_loss: 1.5145\n",
      "Epoch 23/30\n",
      "1407/1407 [==============================] - 2s 2ms/step - loss: 1.3850 - val_loss: 1.5164\n"
     ]
    },
    {
     "data": {
      "text/plain": [
       "RandomizedSearchCV(cv=3,\n",
       "                   estimator=<keras.wrappers.scikit_learn.KerasClassifier object at 0x00000154ABA73820>,\n",
       "                   n_jobs=-1,\n",
       "                   param_distributions={'n_hidden': [2, 4, 7, 10],\n",
       "                                        'n_neurons': [100, 200, 300, 400, 500]},\n",
       "                   verbose=2)"
      ]
     },
     "execution_count": 38,
     "metadata": {},
     "output_type": "execute_result"
    }
   ],
   "source": [
    "from sklearn.model_selection import RandomizedSearchCV\n",
    "\n",
    "# Define hyperparameter sets and ranges to explore\n",
    "param_distribs = {\n",
    "    \"n_hidden\": [2, 4, 7, 10],\n",
    "    \"n_neurons\": [100, 200, 300, 400, 500]\n",
    "}\n",
    "                      \n",
    "# Create an instance of RandomizedSearchCV\n",
    "rnd_search_cv = RandomizedSearchCV(keras_classifier, param_distribs, n_iter=10, cv=3, n_jobs=-1, verbose=2)\n",
    "\n",
    "# Search\n",
    "rnd_search_cv.fit(X_train, y_train, epochs=30,\n",
    "                  validation_data=(X_valid, y_valid),\n",
    "                  callbacks=[keras.callbacks.EarlyStopping(patience=5)])"
   ]
  },
  {
   "cell_type": "code",
   "execution_count": 39,
   "id": "316df570",
   "metadata": {},
   "outputs": [
    {
     "data": {
      "text/plain": [
       "{'n_neurons': 100, 'n_hidden': 2}"
      ]
     },
     "execution_count": 39,
     "metadata": {},
     "output_type": "execute_result"
    }
   ],
   "source": [
    "rnd_search_cv.best_params_"
   ]
  },
  {
   "cell_type": "code",
   "execution_count": 57,
   "id": "52544ed2",
   "metadata": {
    "scrolled": true
   },
   "outputs": [
    {
     "name": "stdout",
     "output_type": "stream",
     "text": [
      "313/313 [==============================] - 0s 1ms/step - loss: 1.5178\n"
     ]
    },
    {
     "data": {
      "text/plain": [
       "1.5178385972976685"
      ]
     },
     "execution_count": 57,
     "metadata": {},
     "output_type": "execute_result"
    }
   ],
   "source": [
    "rnd_search_model = rnd_search_cv.best_estimator_.model\n",
    "rnd_search_model.evaluate(X_test, y_test)"
   ]
  }
 ],
 "metadata": {
  "kernelspec": {
   "display_name": "Python 3 (ipykernel)",
   "language": "python",
   "name": "python3"
  },
  "language_info": {
   "codemirror_mode": {
    "name": "ipython",
    "version": 3
   },
   "file_extension": ".py",
   "mimetype": "text/x-python",
   "name": "python",
   "nbconvert_exporter": "python",
   "pygments_lexer": "ipython3",
   "version": "3.10.2"
  }
 },
 "nbformat": 4,
 "nbformat_minor": 5
}
